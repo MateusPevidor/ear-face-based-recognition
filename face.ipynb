{
  "cells": [
    {
      "cell_type": "markdown",
      "metadata": {
        "id": "lDqdqxMXm5Pj"
      },
      "source": [
        "# Config"
      ]
    },
    {
      "cell_type": "code",
      "execution_count": null,
      "metadata": {
        "id": "fDetsalvikFe"
      },
      "outputs": [],
      "source": [
        "# Config\n",
        "download_faces_from_drive = False\n",
        "download_vgg_weights = True\n",
        "base_images_dir = \"/content/drive/My Drive/vggear/\""
      ]
    },
    {
      "cell_type": "code",
      "source": [
        "from google.colab import drive\n",
        "drive.mount('/content/drive')"
      ],
      "metadata": {
        "colab": {
          "base_uri": "https://localhost:8080/"
        },
        "id": "c7AU_smPdWua",
        "outputId": "07a68486-d571-41b6-822f-921ba10401ec"
      },
      "execution_count": null,
      "outputs": [
        {
          "output_type": "stream",
          "name": "stdout",
          "text": [
            "Mounted at /content/drive\n"
          ]
        }
      ]
    },
    {
      "cell_type": "markdown",
      "metadata": {
        "id": "SPCZ-v1bm7z7"
      },
      "source": [
        "# Imports"
      ]
    },
    {
      "cell_type": "code",
      "execution_count": null,
      "metadata": {
        "id": "gP6kHoxcS9TL"
      },
      "outputs": [],
      "source": [
        "import tensorflow as tf\n",
        "from tensorflow import keras\n",
        "#from tensorflow.keras.applications.vggface import VGGFace\n",
        "\n",
        "import numpy as np\n",
        "import cv2\n",
        "import matplotlib.pyplot as plt\n",
        "\n",
        "from sklearn.metrics import accuracy_score\n",
        "from sklearn.model_selection import train_test_split\n",
        "\n",
        "from collections import Counter\n",
        "\n",
        "import tensorflow as tf\n",
        "from tensorflow import keras\n",
        "\n",
        "from keras.applications.imagenet_utils import preprocess_input\n",
        "from tensorflow.keras.utils import load_img, save_img, img_to_array, to_categorical\n",
        "\n",
        "from keras.optimizers.optimizer_v1 import Optimizer\n",
        "from keras.models import Model, Sequential\n",
        "from keras.layers import Input, Convolution2D, ZeroPadding2D, MaxPooling2D, Flatten, Dense, Dropout, Activation, GlobalAveragePooling2D"
      ]
    },
    {
      "cell_type": "markdown",
      "metadata": {
        "id": "5eyZ1-Hem9gw"
      },
      "source": [
        "# Downloads"
      ]
    },
    {
      "cell_type": "code",
      "execution_count": null,
      "metadata": {
        "colab": {
          "base_uri": "https://localhost:8080/"
        },
        "id": "yq48m6wmiXVP",
        "outputId": "018b52a2-9341-4579-e904-81b11d32f000"
      },
      "outputs": [
        {
          "output_type": "stream",
          "name": "stdout",
          "text": [
            "Mounted at /content/drive\n"
          ]
        }
      ],
      "source": [
        "if download_faces_from_drive or download_vgg_weights:\n",
        "  from google.colab import drive\n",
        "  drive.mount('/content/drive')\n",
        "\n",
        "if download_faces_from_drive:\n",
        "  !cp -r \"/content/drive/My Drive/faces_fei/\" \"faces/\"\n",
        "\n",
        "if download_vgg_weights:\n",
        "  !cp \"/content/drive/My Drive/vgg_face_weights.h5\" \"./vgg_face_weights.h5\""
      ]
    },
    {
      "cell_type": "code",
      "source": [
        "!cp -r \"/content/drive/My Drive/faces_georgia/\" \"/content\""
      ],
      "metadata": {
        "id": "UHL9OHc3sZ9b"
      },
      "execution_count": null,
      "outputs": []
    },
    {
      "cell_type": "code",
      "source": [
        "!cp \"/content/drive/My Drive/vgg_face_weights.h5\" \"./vgg_face_weights.h5\""
      ],
      "metadata": {
        "id": "Pei7iY2VtDgW"
      },
      "execution_count": null,
      "outputs": []
    },
    {
      "cell_type": "markdown",
      "metadata": {
        "id": "ChcmiHTdrWAs"
      },
      "source": [
        "# Load Images"
      ]
    },
    {
      "cell_type": "code",
      "execution_count": null,
      "metadata": {
        "id": "gLy9Il_yrYFF"
      },
      "outputs": [],
      "source": [
        "from keras.preprocessing.image import ImageDataGenerator, NumpyArrayIterator\n",
        "\n",
        "train_datagen = ImageDataGenerator(\n",
        "    rescale=1./255,\n",
        "    validation_split=0.2,\n",
        "    rotation_range=10,\n",
        "    zoom_range=0.1,\n",
        "    fill_mode='nearest',\n",
        "    preprocessing_function=preprocess_input\n",
        ")\n",
        "\n",
        "datagen = ImageDataGenerator(\n",
        "    rescale=1./255,\n",
        "    validation_split=0.2,\n",
        "    preprocessing_function=preprocess_input\n",
        ")\n",
        "\n",
        "train_generator = train_datagen.flow_from_directory(\n",
        "    '/content/drive/My Drive/ears_2/dataset/',\n",
        "    target_size=(224, 224),\n",
        "    batch_size=8,\n",
        "    class_mode='categorical',\n",
        "    subset='training',\n",
        "    shuffle=True\n",
        ")\n",
        "\n",
        "val_generator = datagen.flow_from_directory(\n",
        "    '/content/drive/My Drive/ears_2/dataset/',\n",
        "    target_size=(224, 224),\n",
        "    batch_size=8,\n",
        "    class_mode='categorical',\n",
        "    subset='validation',\n",
        "    shuffle=True\n",
        ")\n",
        "\n",
        "test_generator = datagen.flow_from_directory(\n",
        "    '/content/drive/My Drive/ears_2/test_dataset/',\n",
        "    target_size=(224, 224),\n",
        "    batch_size=8,\n",
        "    class_mode='categorical',\n",
        "    shuffle=True\n",
        ")"
      ]
    },
    {
      "cell_type": "code",
      "source": [
        "from keras.preprocessing.image import ImageDataGenerator, NumpyArrayIterator\n",
        "preprocess_datagen = ImageDataGenerator(rescale=1./127.5)\n",
        "def preprocess_image(image_path):\n",
        "  img = load_img(image_path, target_size=(224, 224))\n",
        "  img = img_to_array(img)\n",
        "  #img = datagen.standardize(img)\n",
        "  #img = img + 0.5\n",
        "  #img = np.clip(img, 0, 1)\n",
        "  # img = np.expand_dims(img, axis=0)\n",
        "  \n",
        "  #preprocess_input normalizes input in scale of [-1, +1]. You must apply same normalization in prediction.\n",
        "  #Ref: https://github.com/keras-team/keras-applications/blob/master/keras_applications/imagenet_utils.py (Line 45)\n",
        "  img = preprocess_input(img)\n",
        "\n",
        "  return img\n",
        "\n",
        "data_augmentation = tf.keras.Sequential([tf.keras.layers.experimental.preprocessing.RandomRotation(0.1)])"
      ],
      "metadata": {
        "id": "ImOztv8rPXKt"
      },
      "execution_count": null,
      "outputs": []
    },
    {
      "cell_type": "code",
      "source": [
        "from os import listdir\n",
        "import re\n",
        "\n",
        "faces = listdir(base_images_dir)\n",
        "faces_1 = sorted([s for s in faces if re.compile('s\\d?\\d?\\d_1.jpg').match(s)])\n",
        "faces_2 = sorted([s for s in faces if re.compile('s\\d?\\d?\\d_2.jpg').match(s)])\n",
        "faces_3 = sorted([s for s in faces if re.compile('s\\d?\\d?\\d_3.jpg').match(s)])\n",
        "faces_4 = sorted([s for s in faces if re.compile('s\\d?\\d?\\d_4.jpg').match(s)])\n",
        "faces_5 = sorted([s for s in faces if re.compile('s\\d?\\d?\\d_5.jpg').match(s)])\n",
        "#faces_6 = sorted([s for s in faces if re.compile('s\\d?\\d?\\d_06.jpg').match(s)])\n",
        "#faces_7 = sorted([s for s in faces if re.compile('s\\d?\\d?\\d_07.jpg').match(s)])\n",
        "#faces_8 = sorted([s for s in faces if re.compile('s\\d?\\d?\\d_08.jpg').match(s)])\n",
        "#faces_9 = sorted([s for s in faces if re.compile('s\\d?\\d?\\d_09.jpg').match(s)])\n",
        "#faces_10 = sorted([s for s in faces if re.compile('s\\d?\\d?\\d_10.jpg').match(s)])\n",
        "#faces_11 = sorted([s for s in faces if re.compile('s\\d?\\d?\\d_11.jpg').match(s)])\n",
        "#faces_12 = sorted([s for s in faces if re.compile('s\\d?\\d?\\d_12.jpg').match(s)])\n",
        "#faces_13 = sorted([s for s in faces if re.compile('s\\d?\\d?\\d_13.jpg').match(s)])\n",
        "#faces_14 = sorted([s for s in faces if re.compile('s\\d?\\d?\\d_14.jpg').match(s)])\n",
        "#faces_15 = sorted([s for s in faces if re.compile('s\\d?\\d?\\d_15.jpg').match(s)])\n",
        "ids_ears = [int(s.replace(\"s\", \"\").split(\"_\")[0]) for s in faces_1]\n",
        "subjects = list(zip(ids_ears, faces_1, faces_2, faces_3, faces_4, faces_5))#, faces_6, faces_7,faces_8,faces_9,faces_10,faces_11,faces_12,faces_13,faces_14,faces_15))\n",
        "subjects = sorted(subjects, key=lambda x: x[0])[:100]\n",
        "print(ids_ears)\n",
        "print(len(subjects))\n",
        "print(subjects[0])\n",
        "print([s[0] for s in subjects])"
      ],
      "metadata": {
        "id": "iFmRdTACPcDe"
      },
      "execution_count": null,
      "outputs": []
    },
    {
      "cell_type": "code",
      "source": [
        "a = preprocess_image(f'{base_images_dir}s100_1.jpg')"
      ],
      "metadata": {
        "id": "7HPC9gqxbW44"
      },
      "execution_count": null,
      "outputs": []
    },
    {
      "cell_type": "code",
      "source": [
        "plt.imshow(a)"
      ],
      "metadata": {
        "id": "UNnZ9S_Tb1Ny"
      },
      "execution_count": null,
      "outputs": []
    },
    {
      "cell_type": "code",
      "source": [
        "X_train = []\n",
        "y_train = []\n",
        "\n",
        "for subject in subjects:\n",
        "  ids_ear, faces_1, faces_2, faces_3, faces_4, faces_5 = subject#, faces_6, faces_7,faces_8,faces_9,faces_10,faces_11,faces_12,faces_13,faces_14,faces_15 = subject\n",
        "  ids_ear = ids_ear - 1\n",
        "  faces_1 = preprocess_image(f'{base_images_dir}{faces_1}')\n",
        "  faces_2 = preprocess_image(f'{base_images_dir}{faces_2}')\n",
        "  faces_3 = preprocess_image(f'{base_images_dir}{faces_3}')\n",
        "  faces_4 = preprocess_image(f'{base_images_dir}{faces_4}')\n",
        "  faces_5 = preprocess_image(f'{base_images_dir}{faces_5}')\n",
        "  #faces_6 = preprocess_image(f'{base_images_dir}{faces_6}')\n",
        "  #faces_7 = preprocess_image(f'{base_images_dir}{faces_7}')\n",
        "  #faces_8 = preprocess_image(f'{base_images_dir}{faces_8}')\n",
        "  #faces_9 = preprocess_image(f'{base_images_dir}{faces_9}')\n",
        "  #faces_10 = preprocess_image(f'{base_images_dir}{faces_10}')\n",
        "  #faces_11 = preprocess_image(f'{base_images_dir}{faces_11}')\n",
        "  #faces_12 = preprocess_image(f'{base_images_dir}{faces_12}')\n",
        "  #faces_13 = preprocess_image(f'{base_images_dir}{faces_13}')\n",
        "  #faces_14 = preprocess_image(f'{base_images_dir}{faces_14}')\n",
        "  #faces_15 = preprocess_image(f'{base_images_dir}{faces_15}')\n",
        "  labels = [ids_ear] * 5\n",
        "\n",
        "  X_train.append(faces_1)\n",
        "  X_train.append(faces_2)\n",
        "  X_train.append(faces_3)\n",
        "  X_train.append(faces_4)\n",
        "  X_train.append(faces_5)\n",
        "  #X_train.append(faces_6)\n",
        "  #X_train.append(faces_7)\n",
        "  #X_train.append(faces_8)\n",
        "  #X_train.append(faces_9)\n",
        "  #X_train.append(faces_10)\n",
        "  #X_train.append(faces_11)\n",
        "  #X_train.append(faces_12)\n",
        "  #X_train.append(faces_13)\n",
        "  #X_train.append(faces_14)\n",
        "  #X_train.append(faces_15)\n",
        "\n",
        "  augmentation_rounds = 0\n",
        "  for i in range(augmentation_rounds):\n",
        "    faces_1_augmented = data_augmentation(faces_1, training=True)\n",
        "    faces_2_augmented = data_augmentation(faces_2, training=True)\n",
        "    faces_3_augmented = data_augmentation(faces_3, training=True)\n",
        "    faces_4_augmented = data_augmentation(faces_4, training=True)\n",
        "    faces_5_augmented = data_augmentation(faces_5, training=True)\n",
        "    #faces_6_augmented = data_augmentation(faces_6, training=True)\n",
        "    #faces_7_augmented = data_augmentation(faces_7, training=True)\n",
        "    #faces_8_augmented = data_augmentation(faces_8, training=True)\n",
        "    #faces_9_augmented = data_augmentation(faces_9, training=True)\n",
        "    #faces_10_augmented = data_augmentation(faces_10, training=True)\n",
        "    #faces_11_augmented = data_augmentation(faces_11, training=True)\n",
        "    #faces_12_augmented = data_augmentation(faces_12, training=True)\n",
        "    #faces_13_augmented = data_augmentation(faces_13, training=True)\n",
        "    #faces_14_augmented = data_augmentation(faces_14, training=True)\n",
        "    #faces_15_augmented = data_augmentation(faces_15, training=True)\n",
        "\n",
        "    X_train.append(faces_1_augmented)\n",
        "    X_train.append(faces_2_augmented)\n",
        "    X_train.append(faces_3_augmented)\n",
        "    X_train.append(faces_4_augmented)\n",
        "    X_train.append(faces_5_augmented)\n",
        "    #X_train.append(faces_6_augmented)\n",
        "    #X_train.append(faces_7_augmented)\n",
        "    #X_train.append(faces_8_augmented)\n",
        "    #X_train.append(faces_9_augmented)\n",
        "    #X_train.append(faces_10_augmented)\n",
        "    #X_train.append(faces_11_augmented)\n",
        "    #X_train.append(faces_12_augmented)\n",
        "    #X_train.append(faces_13_augmented)\n",
        "    #X_train.append(faces_14_augmented)\n",
        "    #X_train.append(faces_15_augmented)\n",
        "\n",
        "    labels.extend([ids_ear] * 5)\n",
        "\n",
        "    \n",
        "\n",
        "  y_train.extend(labels)"
      ],
      "metadata": {
        "id": "6qDq0JvYS-jT"
      },
      "execution_count": null,
      "outputs": []
    },
    {
      "cell_type": "code",
      "source": [
        "X_train, X_test, y_train, y_test = train_test_split(\n",
        "    X_train, y_train, test_size=0.15, shuffle=True)\n",
        "\n",
        "X_train, X_val, y_train, y_val = train_test_split(\n",
        "    X_train, y_train, test_size=0.15, shuffle=True)\n",
        "\n",
        "X_train = np.asarray(X_train)\n",
        "X_test = np.asarray(X_test)\n",
        "X_val = np.asarray(X_val)\n",
        "y_train = np.asarray(y_train)\n",
        "y_test = np.asarray(y_test)\n",
        "y_val = np.asarray(y_val)"
      ],
      "metadata": {
        "id": "Vm6YdkDSU04c"
      },
      "execution_count": null,
      "outputs": []
    },
    {
      "cell_type": "code",
      "source": [
        "X_train = np.asarray(X_train)\n",
        "y_train = np.asarray(y_train)"
      ],
      "metadata": {
        "id": "sEcML1dWx6S4"
      },
      "execution_count": null,
      "outputs": []
    },
    {
      "cell_type": "code",
      "source": [
        "print(y_train.max())\n",
        "print(y_train.min())"
      ],
      "metadata": {
        "id": "b3e05oE6kzQx"
      },
      "execution_count": null,
      "outputs": []
    },
    {
      "cell_type": "code",
      "execution_count": null,
      "metadata": {
        "id": "qUxPWz2Kvitu"
      },
      "outputs": [],
      "source": [
        "import shutil\n",
        "\n",
        "shutil.rmtree('./faces_georgia')"
      ]
    },
    {
      "cell_type": "markdown",
      "metadata": {
        "id": "ycwWMAg5m-_2"
      },
      "source": [
        "# Model"
      ]
    },
    {
      "cell_type": "code",
      "execution_count": null,
      "metadata": {
        "id": "W9mTyJ0GmIeY"
      },
      "outputs": [],
      "source": [
        "def loadVggFaceModel():\n",
        "  model = Sequential()\n",
        "  model.add(ZeroPadding2D((1,1),input_shape=(224,224, 3)))\n",
        "  model.add(Convolution2D(64, (3, 3), activation='relu'))\n",
        "  model.add(ZeroPadding2D((1,1)))\n",
        "  model.add(Convolution2D(64, (3, 3), activation='relu'))\n",
        "  model.add(MaxPooling2D((2,2), strides=(2,2)))\n",
        "\n",
        "  model.add(ZeroPadding2D((1,1)))\n",
        "  model.add(Convolution2D(128, (3, 3), activation='relu'))\n",
        "  model.add(ZeroPadding2D((1,1)))\n",
        "  model.add(Convolution2D(128, (3, 3), activation='relu'))\n",
        "  model.add(MaxPooling2D((2,2), strides=(2,2)))\n",
        "\n",
        "  model.add(ZeroPadding2D((1,1)))\n",
        "  model.add(Convolution2D(256, (3, 3), activation='relu'))\n",
        "  model.add(ZeroPadding2D((1,1)))\n",
        "  model.add(Convolution2D(256, (3, 3), activation='relu'))\n",
        "  model.add(ZeroPadding2D((1,1)))\n",
        "  model.add(Convolution2D(256, (3, 3), activation='relu'))\n",
        "  model.add(MaxPooling2D((2,2), strides=(2,2)))\n",
        "\n",
        "  model.add(ZeroPadding2D((1,1)))\n",
        "  model.add(Convolution2D(512, (3, 3), activation='relu'))\n",
        "  model.add(ZeroPadding2D((1,1)))\n",
        "  model.add(Convolution2D(512, (3, 3), activation='relu'))\n",
        "  model.add(ZeroPadding2D((1,1)))\n",
        "  model.add(Convolution2D(512, (3, 3), activation='relu'))\n",
        "  model.add(MaxPooling2D((2,2), strides=(2,2)))\n",
        "\n",
        "  model.add(ZeroPadding2D((1,1)))\n",
        "  model.add(Convolution2D(512, (3, 3), activation='relu'))\n",
        "  model.add(ZeroPadding2D((1,1)))\n",
        "  model.add(Convolution2D(512, (3, 3), activation='relu'))\n",
        "  model.add(ZeroPadding2D((1,1)))\n",
        "  model.add(Convolution2D(512, (3, 3), activation='relu'))\n",
        "  model.add(MaxPooling2D((2,2), strides=(2,2)))\n",
        "\n",
        "  model.add(Convolution2D(4096, (7, 7), activation='relu'))\n",
        "  model.add(Dropout(0.5))\n",
        "  model.add(Convolution2D(4096, (1, 1), activation='relu'))\n",
        "  model.add(Dropout(0.5))\n",
        "  model.add(Convolution2D(2622, (1, 1)))\n",
        "  model.load_weights('vgg_face_weights.h5')\n",
        "\n",
        "  for layer in model.layers:\n",
        "    layer.trainable = False\n",
        "  \n",
        "  model.add(GlobalAveragePooling2D())\n",
        "  #model.add(Dense(512, activation='relu'))\n",
        "  #model.add(Dense(512, activation='relu'))\n",
        "  #model.add(Dense(256, activation='relu'))\n",
        "  #model.add(Dense(128, activation='relu'))\n",
        "  model.add(Dense(128, activation='relu'))\n",
        "  #model.add(Dense(40, activation='relu'))\n",
        "  model.add(Dense(100, activation='softmax'))\n",
        "\n",
        "  return model\n",
        "\n",
        "model = loadVggFaceModel()\n",
        "# model.summary()"
      ]
    },
    {
      "cell_type": "code",
      "execution_count": null,
      "metadata": {
        "id": "f539N7n7mpbF"
      },
      "outputs": [],
      "source": [
        "model.compile(\n",
        "    loss='categorical_crossentropy',\n",
        "    optimizer=keras.optimizers.SGD(learning_rate=0.05),\n",
        "    metrics=['categorical_accuracy', 'accuracy']\n",
        ")"
      ]
    },
    {
      "cell_type": "code",
      "source": [
        "model.compile(\n",
        "    loss='sparse_categorical_crossentropy',\n",
        "    optimizer=keras.optimizers.SGD(learning_rate=0.05),\n",
        "    metrics=['sparse_categorical_accuracy', 'accuracy']\n",
        ")"
      ],
      "metadata": {
        "id": "XwayCovaVgBY"
      },
      "execution_count": null,
      "outputs": []
    },
    {
      "cell_type": "markdown",
      "metadata": {
        "id": "9uE12l_RnBl8"
      },
      "source": [
        "# Training"
      ]
    },
    {
      "cell_type": "code",
      "source": [
        "from keras.callbacks import Callback\n",
        "\n",
        "class MyCallback(Callback):\n",
        "    def on_epoch_end(self, epoch, logs=None):\n",
        "        model = self.model\n",
        "        #test_generator.reset()\n",
        "        pred = model.predict(X_test)\n",
        "        predicted_test = [np.argmax(x) for x in pred]\n",
        "        accuracy = accuracy_score(predicted_test, y_test)\n",
        "        print('Test Accuracy:', accuracy)\n",
        "        print(predicted_test)\n",
        "\n",
        "my_callback = MyCallback()"
      ],
      "metadata": {
        "id": "DjFsneAB64Qx"
      },
      "execution_count": null,
      "outputs": []
    },
    {
      "cell_type": "code",
      "execution_count": null,
      "metadata": {
        "id": "tJRPD91bmp-N"
      },
      "outputs": [],
      "source": [
        "def scheduler(epoch, lr):\n",
        "  if epoch < 50:\n",
        "    return lr\n",
        "  else:\n",
        "    return lr * tf.math.exp(-0.1)\n",
        "\n",
        "callback = tf.keras.callbacks.LearningRateScheduler(scheduler)"
      ]
    },
    {
      "cell_type": "code",
      "source": [
        "plt.imshow(X_train[1])\n",
        "# X_train[0]"
      ],
      "metadata": {
        "colab": {
          "base_uri": "https://localhost:8080/",
          "height": 304
        },
        "id": "LlD6CyiiZaLT",
        "outputId": "0af1c858-a975-4054-854d-b2d94ee4fb84"
      },
      "execution_count": null,
      "outputs": [
        {
          "output_type": "stream",
          "name": "stderr",
          "text": [
            "WARNING:matplotlib.image:Clipping input data to the valid range for imshow with RGB data ([0..1] for floats or [0..255] for integers).\n"
          ]
        },
        {
          "output_type": "execute_result",
          "data": {
            "text/plain": [
              "<matplotlib.image.AxesImage at 0x7f071826b100>"
            ]
          },
          "metadata": {},
          "execution_count": 21
        },
        {
          "output_type": "display_data",
          "data": {
            "text/plain": [
              "<Figure size 432x288 with 1 Axes>"
            ],
            "image/png": "[encoded data removed]"
          },
          "metadata": {
            "needs_background": "light"
          }
        }
      ]
    },
    {
      "cell_type": "code",
      "execution_count": null,
      "metadata": {
        "colab": {
          "base_uri": "https://localhost:8080/"
        },
        "id": "99CkT97G0era",
        "outputId": "cb1ad95c-0353-4bed-da57-082637867da8"
      },
      "outputs": [
        {
          "output_type": "execute_result",
          "data": {
            "text/plain": [
              "192"
            ]
          },
          "metadata": {},
          "execution_count": 28
        }
      ],
      "source": [
        "len(X_val)"
      ]
    },
    {
      "cell_type": "code",
      "source": [
        "history = model.fit(X_train, y_train, epochs=100, batch_size=32, callbacks=[callback, my_callback], validation_data=(X_val, y_val))"
      ],
      "metadata": {
        "id": "SSVYuAZKVW0B"
      },
      "execution_count": null,
      "outputs": []
    },
    {
      "cell_type": "code",
      "source": [
        "pred = model.predict(X_test)"
      ],
      "metadata": {
        "id": "1e4CsCLLXq8K"
      },
      "execution_count": null,
      "outputs": []
    },
    {
      "cell_type": "code",
      "source": [
        "predicted_test = [np.argmax(x) for x in pred]"
      ],
      "metadata": {
        "id": "zwwD99tNnaYi"
      },
      "execution_count": null,
      "outputs": []
    },
    {
      "cell_type": "code",
      "source": [
        "accuracy_score(y_test, predicted_test)"
      ],
      "metadata": {
        "colab": {
          "base_uri": "https://localhost:8080/"
        },
        "id": "pgppajV1ndYm",
        "outputId": "32bfc157-110a-4e0a-db77-486fd168b0ea"
      },
      "execution_count": null,
      "outputs": [
        {
          "output_type": "execute_result",
          "data": {
            "text/plain": [
              "1.0"
            ]
          },
          "metadata": {},
          "execution_count": 18
        }
      ]
    },
    {
      "cell_type": "code",
      "source": [
        "y_test.max()"
      ],
      "metadata": {
        "colab": {
          "base_uri": "https://localhost:8080/"
        },
        "id": "Cy6V-a_bpf0m",
        "outputId": "940370da-cb8f-4c4f-fa9d-7dd8a98103b1"
      },
      "execution_count": null,
      "outputs": [
        {
          "output_type": "execute_result",
          "data": {
            "text/plain": [
              "98"
            ]
          },
          "metadata": {},
          "execution_count": 21
        }
      ]
    },
    {
      "cell_type": "code",
      "source": [
        "import numpy as np\n",
        "import matplotlib.pyplot as plt\n",
        "from sklearn.metrics import confusion_matrix\n",
        "\n",
        "# Compute confusion matrix\n",
        "cm = confusion_matrix(y_test, predicted_test)\n",
        "\n",
        "# Plot confusion matrix\n",
        "plt.figure(figsize=(15,15))\n",
        "plt.imshow(cm, interpolation='nearest', cmap=plt.cm.Blues)\n",
        "plt.colorbar()\n",
        "plt.xticks(np.arange(0, 100))\n",
        "plt.yticks(np.arange(0, 100))\n",
        "plt.xlabel('Predicted label')\n",
        "plt.ylabel('True label')\n",
        "plt.show()"
      ],
      "metadata": {
        "id": "y7M7K8VKoR0c"
      },
      "execution_count": null,
      "outputs": []
    },
    {
      "cell_type": "code",
      "source": [
        "plt.imshow(X_test[53])"
      ],
      "metadata": {
        "id": "9etMUS2VqU1n"
      },
      "execution_count": null,
      "outputs": []
    },
    {
      "cell_type": "code",
      "source": [
        "plt.imshow(X_test[26])"
      ],
      "metadata": {
        "id": "F-hIFLnzqn2T"
      },
      "execution_count": null,
      "outputs": []
    },
    {
      "cell_type": "code",
      "source": [
        "from datetime import datetime\n",
        "now = datetime.now()\n",
        "timestamp = now.strftime(\"%Y_%m_%d_%H_%M_%S\")\n",
        "trained_filename = f'./trained_weights_face_{timestamp}.h5'"
      ],
      "metadata": {
        "id": "ueWCAALXmNUV"
      },
      "execution_count": null,
      "outputs": []
    },
    {
      "cell_type": "code",
      "source": [
        "model.save_weights(trained_filename)"
      ],
      "metadata": {
        "id": "0JXDSpGImPrP"
      },
      "execution_count": null,
      "outputs": []
    },
    {
      "cell_type": "code",
      "source": [
        "!cp '/content/trained_weights_face_2023_03_02_04_51_58.h5' '/content/drive/MyDrive'"
      ],
      "metadata": {
        "id": "6hcjvX40mUm0"
      },
      "execution_count": null,
      "outputs": []
    },
    {
      "cell_type": "code",
      "source": [
        "X_train = np.asarray(X_train)\n",
        "y_train = np.asarray(y_train)"
      ],
      "metadata": {
        "id": "opa6ZNufsk5V"
      },
      "execution_count": null,
      "outputs": []
    },
    {
      "cell_type": "code",
      "source": [
        "prediction = model.predict(X_train)"
      ],
      "metadata": {
        "colab": {
          "base_uri": "https://localhost:8080/"
        },
        "id": "8DNdxE4vsmAs",
        "outputId": "ce17420f-dc4b-42d6-b657-997b6f692d6f"
      },
      "execution_count": null,
      "outputs": [
        {
          "output_type": "stream",
          "name": "stdout",
          "text": [
            "16/16 [==============================] - 3s 195ms/step\n"
          ]
        }
      ]
    },
    {
      "cell_type": "code",
      "source": [
        "np.savetxt(\"cnn_ear_softmax_2.txt\", prediction)\n",
        "np.savetxt(\"cnn_ear_labels_2.txt\", y_train)"
      ],
      "metadata": {
        "id": "5jYMcNXksoWO"
      },
      "execution_count": null,
      "outputs": []
    }
  ],
  "metadata": {
    "accelerator": "GPU",
    "colab": {
      "provenance": []
    },
    "gpuClass": "standard",
    "kernelspec": {
      "display_name": "Python 3",
      "name": "python3"
    },
    "language_info": {
      "name": "python"
    }
  },
  "nbformat": 4,
  "nbformat_minor": 0
}